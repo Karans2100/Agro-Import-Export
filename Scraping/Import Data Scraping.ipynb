{
 "cells": [
  {
   "cell_type": "code",
   "execution_count": 1,
   "id": "27c5b9ff-2af7-4319-b73e-63ebdda4eeae",
   "metadata": {},
   "outputs": [],
   "source": [
    "from selenium import webdriver\n",
    "from selenium.webdriver.common.by import By\n",
    "from selenium.webdriver.support.ui import Select\n",
    "from bs4 import BeautifulSoup\n",
    "import pandas as pd"
   ]
  },
  {
   "cell_type": "code",
   "execution_count": 2,
   "id": "eed33d7a-9549-4517-8aa6-85aba9c74994",
   "metadata": {},
   "outputs": [],
   "source": [
    "years = [\n",
    "    '2008-09', '2009-10', '2010-11', '2011-12', '2012-13', '2013-14', '2014-15', '2015-16', '2016-17',\n",
    "    '2017-18', '2018-19', '2019-20', '2020-21', '2021-22', '2022-23', '2023-24 (April-November)'\n",
    "]"
   ]
  },
  {
   "cell_type": "code",
   "execution_count": 3,
   "id": "7ba7b962-3332-4b64-828b-37085dd2643a",
   "metadata": {},
   "outputs": [
    {
     "name": "stdout",
     "output_type": "stream",
     "text": [
      "Scrapping Data of year 2008-09\n",
      "Scrapping Data of year 2009-10\n",
      "Scrapping Data of year 2010-11\n",
      "Scrapping Data of year 2011-12\n",
      "Scrapping Data of year 2012-13\n",
      "Scrapping Data of year 2013-14\n",
      "Scrapping Data of year 2014-15\n",
      "Scrapping Data of year 2015-16\n",
      "Scrapping Data of year 2016-17\n",
      "Scrapping Data of year 2017-18\n",
      "Scrapping Data of year 2018-19\n",
      "Scrapping Data of year 2019-20\n",
      "Scrapping Data of year 2020-21\n",
      "Scrapping Data of year 2021-22\n",
      "Scrapping Data of year 2022-23\n",
      "Scrapping Data of year 2023-24 (April-November)\n"
     ]
    }
   ],
   "source": [
    "# Get Yearly Data ProductWise\n",
    "\n",
    "for k in range(0, len(years)):\n",
    "    options = webdriver.ChromeOptions()\n",
    "    options.add_argument(\"--headless\")\n",
    "    browser = webdriver.Chrome(options=options)\n",
    "    browser.get(\"https://agriexchange.apeda.gov.in/importtoindia/genReport_combined.aspx\")\n",
    "    print(f\"Scrapping Data of year {years[k]}\")\n",
    "\n",
    "    product_element = browser.find_element(By.ID, \"RadioButtonList2_0\")\n",
    "    product_element.click()\n",
    "\n",
    "    year_element = browser.find_element(By.ID, \"ListBoxYear\")\n",
    "    year_dropdown = Select(year_element)\n",
    "    year_dropdown.select_by_visible_text(years[k])\n",
    "\n",
    "    country_element = browser.find_element(By.ID, \"ListBoxCountry\")\n",
    "    country_dropdown = Select(country_element)\n",
    "    country_dropdown.select_by_visible_text(\"All\")\n",
    "\n",
    "    value_element = browser.find_element(By.ID, \"Crore\")\n",
    "    value_element.click()\n",
    "\n",
    "    submit_element = browser.find_element(By.ID, \"Button1\")\n",
    "    submit_element.click()\n",
    "\n",
    "    html_content = browser.page_source\n",
    "    doc = BeautifulSoup(html_content, \"html.parser\")\n",
    "\n",
    "    table_element = doc.find_all(\"table\")\n",
    "    table = table_element[10]\n",
    "    row_element = table.find_all(\"tr\")\n",
    "\n",
    "    data = []\n",
    "    for i in range(2, len(row_element)):\n",
    "        internal = []\n",
    "        elements = row_element[i].find_all(\"td\")\n",
    "        for j in range(0, len(elements)):\n",
    "            internal.append(elements[j].text)\n",
    "        data.append(internal)\n",
    "\n",
    "    df = pd.DataFrame(data, columns=[\"Product Name\", \"Qty(MT)\", \"Rs(Crore)\"])\n",
    "    df.to_csv(f\"../Datasets/Import/Import-Product-Wise/{years[k]}.csv\", index=None)\n",
    "\n",
    "    browser.quit()"
   ]
  },
  {
   "cell_type": "code",
   "execution_count": 4,
   "id": "c576ecf1-f31f-4d17-a1b5-dd64ada5590e",
   "metadata": {},
   "outputs": [
    {
     "name": "stdout",
     "output_type": "stream",
     "text": [
      "Scrapping Data of year 2008-09\n",
      "Scrapping Data of year 2009-10\n",
      "Scrapping Data of year 2010-11\n",
      "Scrapping Data of year 2011-12\n",
      "Scrapping Data of year 2012-13\n",
      "Scrapping Data of year 2013-14\n",
      "Scrapping Data of year 2014-15\n",
      "Scrapping Data of year 2015-16\n",
      "Scrapping Data of year 2016-17\n",
      "Scrapping Data of year 2017-18\n",
      "Scrapping Data of year 2018-19\n",
      "Scrapping Data of year 2019-20\n",
      "Scrapping Data of year 2020-21\n",
      "Scrapping Data of year 2021-22\n",
      "Scrapping Data of year 2022-23\n",
      "Scrapping Data of year 2023-24 (April-November)\n"
     ]
    }
   ],
   "source": [
    "# Get Yearly Data CountryWise\n",
    "\n",
    "for k in range(0, len(years)):\n",
    "    options = webdriver.ChromeOptions()\n",
    "    options.add_argument(\"--headless\")\n",
    "    browser = webdriver.Chrome(options=options)\n",
    "    browser.get(\"https://agriexchange.apeda.gov.in/importtoindia/genReport_combined.aspx\")\n",
    "    print(f\"Scrapping Data of year {years[k]}\")\n",
    "\n",
    "    product_element = browser.find_element(By.ID, \"RadioButtonList2_1\")\n",
    "    product_element.click()\n",
    "\n",
    "    year_element = browser.find_element(By.ID, \"ListBoxYear\")\n",
    "    year_dropdown = Select(year_element)\n",
    "    year_dropdown.select_by_visible_text(years[k])\n",
    "\n",
    "    country_element = browser.find_element(By.ID, \"ListBoxCountry\")\n",
    "    country_dropdown = Select(country_element)\n",
    "    country_dropdown.select_by_visible_text(\"All\")\n",
    "\n",
    "    value_element = browser.find_element(By.ID, \"Crore\")\n",
    "    value_element.click()\n",
    "\n",
    "    submit_element = browser.find_element(By.ID, \"Button1\")\n",
    "    submit_element.click()\n",
    "\n",
    "    html_content = browser.page_source\n",
    "    doc = BeautifulSoup(html_content, \"html.parser\")\n",
    "\n",
    "    table_element = doc.find_all(\"table\")\n",
    "    table = table_element[10]\n",
    "    row_element = table.find_all(\"tr\")\n",
    "\n",
    "    data = []\n",
    "    for i in range(2, len(row_element)):\n",
    "        internal = []\n",
    "        elements = row_element[i].find_all(\"td\")\n",
    "        for j in range(0, len(elements)):\n",
    "            internal.append(elements[j].text)\n",
    "        data.append(internal)\n",
    "\n",
    "    df = pd.DataFrame(data, columns=[\"Country Name\", \"Qty(MT)\", \"Rs(Crore)\"])\n",
    "    df.to_csv(f\"../Datasets/Import/Import-Country-Wise/{years[k]}.csv\", index=None)\n",
    "\n",
    "    browser.quit()"
   ]
  }
 ],
 "metadata": {
  "kernelspec": {
   "display_name": "Python 3 (ipykernel)",
   "language": "python",
   "name": "python3"
  },
  "language_info": {
   "codemirror_mode": {
    "name": "ipython",
    "version": 3
   },
   "file_extension": ".py",
   "mimetype": "text/x-python",
   "name": "python",
   "nbconvert_exporter": "python",
   "pygments_lexer": "ipython3",
   "version": "3.11.5"
  }
 },
 "nbformat": 4,
 "nbformat_minor": 5
}
