{
 "cells": [
  {
   "cell_type": "code",
   "execution_count": 1,
   "id": "73afa7a9-d606-4e87-8525-fc58183a9dc5",
   "metadata": {},
   "outputs": [],
   "source": [
    "import pandas as pd"
   ]
  },
  {
   "cell_type": "code",
   "execution_count": 2,
   "id": "089c960a-acf9-4c20-983d-f94c49b3ce67",
   "metadata": {},
   "outputs": [],
   "source": [
    "years = [\n",
    "    '2008-09', '2009-10', '2010-11', '2011-12', '2012-13', '2013-14', '2014-15', '2015-16', '2016-17',\n",
    "    '2017-18', '2018-19', '2019-20', '2020-21', '2021-22', '2022-23', '2023-24 (April-November)'\n",
    "]"
   ]
  },
  {
   "cell_type": "code",
   "execution_count": 3,
   "id": "e4b2eceb-f52b-484c-94a3-4955ebca7302",
   "metadata": {},
   "outputs": [
    {
     "name": "stdout",
     "output_type": "stream",
     "text": [
      "Processing data of year 2008-09\n",
      "Processing data of year 2009-10\n",
      "Processing data of year 2010-11\n",
      "Processing data of year 2011-12\n",
      "Processing data of year 2012-13\n",
      "Processing data of year 2013-14\n",
      "Processing data of year 2014-15\n",
      "Processing data of year 2015-16\n",
      "Processing data of year 2016-17\n",
      "Processing data of year 2017-18\n",
      "Processing data of year 2018-19\n",
      "Processing data of year 2019-20\n",
      "Processing data of year 2020-21\n",
      "Processing data of year 2021-22\n",
      "Processing data of year 2022-23\n",
      "Processing data of year 2023-24 (April-November)\n"
     ]
    }
   ],
   "source": [
    "#Adding Percent Share to ProductWise Data\n",
    "\n",
    "for k in range(0, len(years)):\n",
    "    df = pd.read_csv(f\"../../Datasets/Import/Import-Product-Wise/{years[k]}.csv\")\n",
    "    print(f\"Processing data of year {years[k]}\")\n",
    "\n",
    "\n",
    "    if df[\"Qty(MT)\"].dtype != \"float64\":\n",
    "        df[\"Qty(MT)\"] = df[\"Qty(MT)\"].apply(lambda x: x.replace(\",\", \"\")).astype(float)\n",
    "    if df[\"Rs(Crore)\"].dtype != \"float64\":\n",
    "        df[\"Rs(Crore)\"] = df[\"Rs(Crore)\"].apply(lambda x: x.replace(\",\", \"\")).astype(float)\n",
    "\n",
    "    totalQty = df.iloc[-1][\"Qty(MT)\"]\n",
    "    totalRs = df.iloc[-1][\"Rs(Crore)\"]\n",
    "\n",
    "    df[\"% Share(Qty)\"] = ((df[\"Qty(MT)\"] / totalQty) * 100).round(3)\n",
    "    df[\"% Share(Rs)\"] = ((df[\"Rs(Crore)\"] / totalRs) * 100).round(3)\n",
    "    df[\"MT per Crore\"] = (df[\"Qty(MT)\"] / df[\"Rs(Crore)\"]).round(2)\n",
    "\n",
    "    df.to_csv(f\"../../Datasets/Import/Import-Product-Wise/{years[k]}.csv\", index=None)"
   ]
  },
  {
   "cell_type": "code",
   "execution_count": 4,
   "id": "71e49652-cc28-469b-a409-e880d3a23bfe",
   "metadata": {},
   "outputs": [
    {
     "name": "stdout",
     "output_type": "stream",
     "text": [
      "Processing data of year 2008-09\n",
      "Processing data of year 2009-10\n",
      "Processing data of year 2010-11\n",
      "Processing data of year 2011-12\n",
      "Processing data of year 2012-13\n",
      "Processing data of year 2013-14\n",
      "Processing data of year 2014-15\n",
      "Processing data of year 2015-16\n",
      "Processing data of year 2016-17\n",
      "Processing data of year 2017-18\n",
      "Processing data of year 2018-19\n",
      "Processing data of year 2019-20\n",
      "Processing data of year 2020-21\n",
      "Processing data of year 2021-22\n",
      "Processing data of year 2022-23\n",
      "Processing data of year 2023-24 (April-November)\n"
     ]
    }
   ],
   "source": [
    "#Adding Percent Share to CountryWise Data\n",
    "\n",
    "for k in range(0, len(years)):\n",
    "    df = pd.read_csv(f\"../../Datasets/Import/Import-Country-Wise/{years[k]}.csv\")\n",
    "    print(f\"Processing data of year {years[k]}\")\n",
    "\n",
    "\n",
    "    if df[\"Qty(MT)\"].dtype != \"float64\":\n",
    "        df[\"Qty(MT)\"] = df[\"Qty(MT)\"].apply(lambda x: x.replace(\",\", \"\")).astype(float)\n",
    "    if df[\"Rs(Crore)\"].dtype != \"float64\":\n",
    "        df[\"Rs(Crore)\"] = df[\"Rs(Crore)\"].apply(lambda x: x.replace(\",\", \"\")).astype(float)\n",
    "\n",
    "    totalQty = df.iloc[-1][\"Qty(MT)\"]\n",
    "    totalRs = df.iloc[-1][\"Rs(Crore)\"]\n",
    "\n",
    "    df[\"% Share(Qty)\"] = ((df[\"Qty(MT)\"] / totalQty) * 100).round(3)\n",
    "    df[\"% Share(Rs)\"] = ((df[\"Rs(Crore)\"] / totalRs) * 100).round(3)\n",
    "    df[\"MT per Crore\"] = (df[\"Qty(MT)\"] / df[\"Rs(Crore)\"]).round(2)\n",
    "\n",
    "    df.to_csv(f\"../../Datasets/Import/Import-Country-Wise/{years[k]}.csv\", index=None)"
   ]
  }
 ],
 "metadata": {
  "kernelspec": {
   "display_name": "Python 3 (ipykernel)",
   "language": "python",
   "name": "python3"
  },
  "language_info": {
   "codemirror_mode": {
    "name": "ipython",
    "version": 3
   },
   "file_extension": ".py",
   "mimetype": "text/x-python",
   "name": "python",
   "nbconvert_exporter": "python",
   "pygments_lexer": "ipython3",
   "version": "3.11.5"
  }
 },
 "nbformat": 4,
 "nbformat_minor": 5
}
