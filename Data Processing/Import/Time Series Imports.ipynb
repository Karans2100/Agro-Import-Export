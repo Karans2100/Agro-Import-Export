{
 "cells": [
  {
   "cell_type": "code",
   "execution_count": 1,
   "id": "2302f592-acb1-415a-bd0c-d6f70ffa35f3",
   "metadata": {},
   "outputs": [],
   "source": [
    "import pandas as pd"
   ]
  },
  {
   "cell_type": "code",
   "execution_count": 2,
   "id": "e0c85e39-60d1-42a9-a2aa-4a0c75f05b96",
   "metadata": {},
   "outputs": [],
   "source": [
    "years = [\n",
    "    '2008-09', '2009-10', '2010-11', '2011-12', '2012-13', '2013-14', '2014-15', '2015-16', '2016-17',\n",
    "    '2017-18', '2018-19', '2019-20', '2020-21', '2021-22', '2022-23', '2023-24 (April-November)'\n",
    "]"
   ]
  },
  {
   "cell_type": "code",
   "execution_count": 3,
   "id": "0a27b723-7cdc-4c05-bda7-cc3f1607fb23",
   "metadata": {},
   "outputs": [],
   "source": [
    "products = ['Floriculture', 'Fruits & Vegetables Seeds', 'Fresh Onions', 'Other Fresh Vegetables', 'Walnuts', \n",
    "            'Fresh Mangoes', 'Fresh Grapes', 'Other Fresh Fruits', 'Others (Betel Leaves & Nuts)', \n",
    "            'Cucumber and Gherkins( Prepd. &  Presvd)', 'Processed Vegetables', 'Mango Pulp', \n",
    "            'Processed Fruits, Juices & Nuts', 'Pulses', 'Buffalo Meat', 'Sheep/Goat Meat', \n",
    "            'Other Meat', 'Processed Meat', 'Animal Casings', 'Poultry Products', 'Dairy Products', 'Natural Honey', \n",
    "            'Casein', 'Albumin( Eggs & Milk )', 'Groundnuts', 'Guargum', 'Jaggery & Confectionery', 'Cocoa Products', \n",
    "            'Cereal Preparations', 'Milled Products', 'Alcoholic Beverages', 'Miscellaneous Preparations', 'Basmati Rice', \n",
    "            'Non Basmati Rice', 'Wheat', 'Maize', 'Other Cereals', 'Millet', 'Cashew Kernels', 'Cashewnut Shell Liquid', \n",
    "            'Cardanol', 'Prepared Animal Feeder', 'Other Oil Cake/Solid Resdus']"
   ]
  },
  {
   "cell_type": "code",
   "execution_count": 4,
   "id": "874f1318-117d-4fb7-a6c4-6e8a699cc48f",
   "metadata": {},
   "outputs": [
    {
     "name": "stdout",
     "output_type": "stream",
     "text": [
      "Generating Time Series for Floriculture\n",
      "Generating Time Series for Fruits & Vegetables Seeds\n",
      "Generating Time Series for Fresh Onions\n",
      "Generating Time Series for Other Fresh Vegetables\n",
      "Generating Time Series for Walnuts\n",
      "Generating Time Series for Fresh Mangoes\n",
      "Generating Time Series for Fresh Grapes\n",
      "Generating Time Series for Other Fresh Fruits\n",
      "Generating Time Series for Others (Betel Leaves & Nuts)\n",
      "Generating Time Series for Cucumber and Gherkins( Prepd. &  Presvd)\n",
      "Generating Time Series for Processed Vegetables\n",
      "Generating Time Series for Mango Pulp\n",
      "Generating Time Series for Processed Fruits, Juices & Nuts\n",
      "Generating Time Series for Pulses\n",
      "Generating Time Series for Buffalo Meat\n",
      "Generating Time Series for Sheep/Goat Meat\n",
      "Generating Time Series for Other Meat\n",
      "Generating Time Series for Processed Meat\n",
      "Generating Time Series for Animal Casings\n",
      "Generating Time Series for Poultry Products\n",
      "Generating Time Series for Dairy Products\n",
      "Generating Time Series for Natural Honey\n",
      "Generating Time Series for Casein\n",
      "Generating Time Series for Albumin( Eggs & Milk )\n",
      "Generating Time Series for Groundnuts\n",
      "Generating Time Series for Guargum\n",
      "Generating Time Series for Jaggery & Confectionery\n",
      "Generating Time Series for Cocoa Products\n",
      "Generating Time Series for Cereal Preparations\n",
      "Generating Time Series for Milled Products\n",
      "Generating Time Series for Alcoholic Beverages\n",
      "Generating Time Series for Miscellaneous Preparations\n",
      "Generating Time Series for Basmati Rice\n",
      "Generating Time Series for Non Basmati Rice\n",
      "Generating Time Series for Wheat\n",
      "Generating Time Series for Maize\n",
      "Generating Time Series for Other Cereals\n",
      "Generating Time Series for Millet\n",
      "Generating Time Series for Cashew Kernels\n",
      "Generating Time Series for Cashewnut Shell Liquid\n",
      "Generating Time Series for Cardanol\n",
      "Generating Time Series for Prepared Animal Feeder\n",
      "Generating Time Series for Other Oil Cake/Solid Resdus\n"
     ]
    }
   ],
   "source": [
    "#Generating Time Series data for Import of each Product\n",
    "\n",
    "for k in range(0, len(products)):\n",
    "    data = []\n",
    "    print(f\"Generating Time Series for {products[k]}\")\n",
    "    for i in range(0, len(years)):\n",
    "        internal = []\n",
    "        index = 0\n",
    "        df = pd.read_csv(f\"../../Datasets/Import/Import-Product-Wise/{years[i]}.csv\")\n",
    "    \n",
    "        for j in range(0, len(df) - 1):\n",
    "            if df[\"Product Name\"].str.lower().str.contains(products[k].lower(), regex=False)[j] == 1:\n",
    "                index = j\n",
    "                break\n",
    "            else:\n",
    "                index = -1\n",
    "    \n",
    "        if index == -1:\n",
    "            internal.append(years[i])\n",
    "            internal.append(0)\n",
    "            internal.append(0)\n",
    "            internal.append(0)\n",
    "            internal.append(0)\n",
    "            internal.append(0)\n",
    "        else:\n",
    "            internal.append(years[i])\n",
    "            internal.append(df.iloc[index][\"Qty(MT)\"])\n",
    "            internal.append(df.iloc[index][\"Rs(Crore)\"])\n",
    "            internal.append(df.iloc[index][\"% Share(Qty)\"])\n",
    "            internal.append(df.iloc[index][\"% Share(Rs)\"])\n",
    "            internal.append(df.iloc[index][\"MT per Crore\"])\n",
    "        data.append(internal)\n",
    "    \n",
    "    df1 = pd.DataFrame(data, columns=[\"Year\", \"Qty(MT)\", \"Rs(Crore)\", \"% Share(Qty)\", \"% Share(Rs)\", \"MT per Crore\"])\n",
    "    name = products[k].replace(\"/\", \" or \")\n",
    "    df1.loc[len(df1.index)] = [\"Total\", df1[\"Qty(MT)\"].sum(), df1[\"Rs(Crore)\"].sum(), 0, 0, 0]\n",
    "    df1.to_csv(f\"../../Datasets/Import/Product-Wise-Time-Series/{name}.csv\", index=None)"
   ]
  },
  {
   "cell_type": "code",
   "execution_count": 5,
   "id": "edbe819e-9b2c-4215-a6ce-658825d34f18",
   "metadata": {},
   "outputs": [],
   "source": [
    "countries = [\"U Arab Emts\", \"U S A\", \"France\", \"Germany\", \"U K\", \"Saudi Arab\", \"Bangladesh PR\", \"China P Rp\", \"Brazil\", \n",
    "             \"Iraq\", \"Oman\", \"Malaysia\", \"Kuwait\", \"Thailand\", \"Sri Lanka Dsr\", \"Pakistan Ir\", \"Australia\", \"Russia\", \n",
    "             \"Canada\", \"Israel\"]"
   ]
  },
  {
   "cell_type": "code",
   "execution_count": 8,
   "id": "e7bb1e50-bb9d-4ed2-b74d-ef6a452abd0a",
   "metadata": {},
   "outputs": [
    {
     "name": "stdout",
     "output_type": "stream",
     "text": [
      "Generating Time Series for U Arab Emts\n",
      "Generating Time Series for U S A\n",
      "Generating Time Series for France\n",
      "Generating Time Series for Germany\n",
      "Generating Time Series for U K\n",
      "Generating Time Series for Saudi Arab\n",
      "Generating Time Series for Bangladesh PR\n",
      "Generating Time Series for China P Rp\n",
      "Generating Time Series for Brazil\n",
      "Generating Time Series for Iraq\n",
      "Generating Time Series for Oman\n",
      "Generating Time Series for Malaysia\n",
      "Generating Time Series for Kuwait\n",
      "Generating Time Series for Thailand\n",
      "Generating Time Series for Sri Lanka Dsr\n",
      "Generating Time Series for Pakistan Ir\n",
      "Generating Time Series for Australia\n",
      "Generating Time Series for Russia\n",
      "Generating Time Series for Canada\n",
      "Generating Time Series for Israel\n"
     ]
    }
   ],
   "source": [
    "# Generating Time Series Data for Import of each Country\n",
    "\n",
    "for k in range(0, len(countries)):\n",
    "    data = []\n",
    "    print(f\"Generating Time Series for {countries[k]}\")\n",
    "    for i in range(0, len(years)):\n",
    "        internal = []\n",
    "        index = 0\n",
    "        df = pd.read_csv(f\"../../Datasets/Import/Import-Country-Wise/{years[i]}.csv\")\n",
    "    \n",
    "        for j in range(0, len(df) - 1):\n",
    "            if df[\"Country Name\"].str.lower().str.contains(countries[k].lower(), regex=False)[j] == 1:\n",
    "                index = j\n",
    "                break\n",
    "            else:\n",
    "                index = -1\n",
    "    \n",
    "        if index == -1:\n",
    "            internal.append(years[i])\n",
    "            internal.append(0)\n",
    "            internal.append(0)\n",
    "            internal.append(0)\n",
    "            internal.append(0)\n",
    "            internal.append(0)\n",
    "        else:\n",
    "            internal.append(years[i])\n",
    "            internal.append(df.iloc[index][\"Qty(MT)\"])\n",
    "            internal.append(df.iloc[index][\"Rs(Crore)\"])\n",
    "            internal.append(df.iloc[index][\"% Share(Qty)\"])\n",
    "            internal.append(df.iloc[index][\"% Share(Rs)\"])\n",
    "            internal.append(df.iloc[index][\"MT per Crore\"])\n",
    "        data.append(internal)\n",
    "    \n",
    "    df1 = pd.DataFrame(data, columns=[\"Year\", \"Qty(MT)\", \"Rs(Crore)\", \"% Share(Qty)\", \"% Share(Rs)\", \"MT per Crore\"])\n",
    "    name = countries[k]\n",
    "    total_row = {\"Year\": \"Total\", \"Qty(MT)\": df1[\"Qty(MT)\"].sum(), \"Rs(Crore)\": df1[\"Rs(Crore)\"].sum(), \"% Share(Qty)\": 0, \n",
    "    \"% Share(Rs)\": 0, \"MT per Crore\": 0}\n",
    "    df1.loc[len(df1.index)] = total_row\n",
    "    df1.to_csv(f\"../../Datasets/Import/Country-Wise-Time-Series/{name}.csv\", index=None)"
   ]
  }
 ],
 "metadata": {
  "kernelspec": {
   "display_name": "Python 3 (ipykernel)",
   "language": "python",
   "name": "python3"
  },
  "language_info": {
   "codemirror_mode": {
    "name": "ipython",
    "version": 3
   },
   "file_extension": ".py",
   "mimetype": "text/x-python",
   "name": "python",
   "nbconvert_exporter": "python",
   "pygments_lexer": "ipython3",
   "version": "3.11.5"
  }
 },
 "nbformat": 4,
 "nbformat_minor": 5
}
