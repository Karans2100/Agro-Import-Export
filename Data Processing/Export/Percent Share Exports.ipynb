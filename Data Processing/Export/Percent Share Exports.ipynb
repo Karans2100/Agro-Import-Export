{
 "cells": [
  {
   "cell_type": "code",
   "execution_count": 1,
   "id": "33ddf048-b1d9-4803-9027-a53799051245",
   "metadata": {},
   "outputs": [],
   "source": [
    "import pandas as pd"
   ]
  },
  {
   "cell_type": "code",
   "execution_count": 2,
   "id": "f647c44d-5a01-44ad-8f2f-42319cfed602",
   "metadata": {},
   "outputs": [],
   "source": [
    "years = [\n",
    "    '1987-88', '1988-89', '1990-91', '1991-92', '1992-93', '1993-94', '1994-95', '1995-96', '1996-97',\n",
    "    '1997-98', '1998-99', '1999-00', '2000-01', '2001-02', '2002-03', '2003-04', '2004-05', '2005-06', '2006-07',\n",
    "    '2007-08', '2008-09', '2009-10', '2010-11', '2011-12', '2012-13', '2013-14', '2014-15', '2015-16', '2016-17',\n",
    "    '2017-18', '2018-19', '2019-20', '2020-21', '2021-22', '2022-23', '2023-24 (April-December)'\n",
    "]"
   ]
  },
  {
   "cell_type": "code",
   "execution_count": 3,
   "id": "9118c373-96f4-4152-b328-bfb70ca5a08d",
   "metadata": {},
   "outputs": [
    {
     "name": "stdout",
     "output_type": "stream",
     "text": [
      "Processing data of year 1987-88\n",
      "Processing data of year 1988-89\n",
      "Processing data of year 1990-91\n",
      "Processing data of year 1991-92\n",
      "Processing data of year 1992-93\n",
      "Processing data of year 1993-94\n",
      "Processing data of year 1994-95\n",
      "Processing data of year 1995-96\n",
      "Processing data of year 1996-97\n",
      "Processing data of year 1997-98\n",
      "Processing data of year 1998-99\n",
      "Processing data of year 1999-00\n",
      "Processing data of year 2000-01\n",
      "Processing data of year 2001-02\n",
      "Processing data of year 2002-03\n",
      "Processing data of year 2003-04\n",
      "Processing data of year 2004-05\n",
      "Processing data of year 2005-06\n",
      "Processing data of year 2006-07\n",
      "Processing data of year 2007-08\n",
      "Processing data of year 2008-09\n",
      "Processing data of year 2009-10\n",
      "Processing data of year 2010-11\n",
      "Processing data of year 2011-12\n",
      "Processing data of year 2012-13\n",
      "Processing data of year 2013-14\n",
      "Processing data of year 2014-15\n",
      "Processing data of year 2015-16\n",
      "Processing data of year 2016-17\n",
      "Processing data of year 2017-18\n",
      "Processing data of year 2018-19\n",
      "Processing data of year 2019-20\n",
      "Processing data of year 2020-21\n",
      "Processing data of year 2021-22\n",
      "Processing data of year 2022-23\n",
      "Processing data of year 2023-24 (April-December)\n"
     ]
    }
   ],
   "source": [
    "#Adding Percent Share to ProductWise Data\n",
    "\n",
    "for k in range(0, len(years)):\n",
    "    df = pd.read_csv(f\"../../Datasets/Export/Export-Product-Wise/{years[k]}.csv\")\n",
    "    print(f\"Processing data of year {years[k]}\")\n",
    "\n",
    "\n",
    "    if df[\"Qty(MT)\"].dtype != \"float64\":\n",
    "        df[\"Qty(MT)\"] = df[\"Qty(MT)\"].apply(lambda x: x.replace(\",\", \"\")).astype(float)\n",
    "    if df[\"Rs(Crore)\"].dtype != \"float64\":\n",
    "        df[\"Rs(Crore)\"] = df[\"Rs(Crore)\"].apply(lambda x: x.replace(\",\", \"\")).astype(float)\n",
    "\n",
    "    totalQty = df.iloc[-1][\"Qty(MT)\"]\n",
    "    totalRs = df.iloc[-1][\"Rs(Crore)\"]\n",
    "\n",
    "    df[\"% Share(Qty)\"] = ((df[\"Qty(MT)\"] / totalQty) * 100).round(3)\n",
    "    df[\"% Share(Rs)\"] = ((df[\"Rs(Crore)\"] / totalRs) * 100).round(3)\n",
    "    df[\"MT per Crore\"] = (df[\"Qty(MT)\"] / df[\"Rs(Crore)\"]).round(2)\n",
    "\n",
    "    df.to_csv(f\"../../Datasets/Export/Export-Product-Wise/{years[k]}.csv\", index=None)"
   ]
  },
  {
   "cell_type": "code",
   "execution_count": 4,
   "id": "aff54af8-8fee-46fd-9c8b-4b1d4b4f9313",
   "metadata": {},
   "outputs": [
    {
     "name": "stdout",
     "output_type": "stream",
     "text": [
      "Processing data of year 1987-88\n",
      "Processing data of year 1988-89\n",
      "Processing data of year 1990-91\n",
      "Processing data of year 1991-92\n",
      "Processing data of year 1992-93\n",
      "Processing data of year 1993-94\n",
      "Processing data of year 1994-95\n",
      "Processing data of year 1995-96\n",
      "Processing data of year 1996-97\n",
      "Processing data of year 1997-98\n",
      "Processing data of year 1998-99\n",
      "Processing data of year 1999-00\n",
      "Processing data of year 2000-01\n",
      "Processing data of year 2001-02\n",
      "Processing data of year 2002-03\n",
      "Processing data of year 2003-04\n",
      "Processing data of year 2004-05\n",
      "Processing data of year 2005-06\n",
      "Processing data of year 2006-07\n",
      "Processing data of year 2007-08\n",
      "Processing data of year 2008-09\n",
      "Processing data of year 2009-10\n",
      "Processing data of year 2010-11\n",
      "Processing data of year 2011-12\n",
      "Processing data of year 2012-13\n",
      "Processing data of year 2013-14\n",
      "Processing data of year 2014-15\n",
      "Processing data of year 2015-16\n",
      "Processing data of year 2016-17\n",
      "Processing data of year 2017-18\n",
      "Processing data of year 2018-19\n",
      "Processing data of year 2019-20\n",
      "Processing data of year 2020-21\n",
      "Processing data of year 2021-22\n",
      "Processing data of year 2022-23\n",
      "Processing data of year 2023-24 (April-December)\n"
     ]
    }
   ],
   "source": [
    "#Adding Percent Share to CountryWise Data\n",
    "\n",
    "for k in range(0, len(years)):\n",
    "    df = pd.read_csv(f\"../../Datasets/Export/Export-Country-Wise/{years[k]}.csv\")\n",
    "    print(f\"Processing data of year {years[k]}\")\n",
    "\n",
    "\n",
    "    if df[\"Qty(MT)\"].dtype != \"float64\":\n",
    "        df[\"Qty(MT)\"] = df[\"Qty(MT)\"].apply(lambda x: x.replace(\",\", \"\")).astype(float)\n",
    "    if df[\"Rs(Crore)\"].dtype != \"float64\":\n",
    "        df[\"Rs(Crore)\"] = df[\"Rs(Crore)\"].apply(lambda x: x.replace(\",\", \"\")).astype(float)\n",
    "\n",
    "    totalQty = df.iloc[-1][\"Qty(MT)\"]\n",
    "    totalRs = df.iloc[-1][\"Rs(Crore)\"]\n",
    "\n",
    "    df[\"% Share(Qty)\"] = ((df[\"Qty(MT)\"] / totalQty) * 100).round(3)\n",
    "    df[\"% Share(Rs)\"] = ((df[\"Rs(Crore)\"] / totalRs) * 100).round(3)\n",
    "    df[\"MT per Crore\"] = (df[\"Qty(MT)\"] / df[\"Rs(Crore)\"]).round(2)\n",
    "\n",
    "    df.to_csv(f\"../../Datasets/Export/Export-Country-Wise/{years[k]}.csv\", index=None)"
   ]
  },
  {
   "cell_type": "code",
   "execution_count": 5,
   "id": "4830ea12-a7fc-4734-8dc3-d09f4fabde84",
   "metadata": {},
   "outputs": [
    {
     "name": "stdout",
     "output_type": "stream",
     "text": [
      "Processing data of year 2005-06\n",
      "Processing data of year 2006-07\n",
      "Processing data of year 2007-08\n",
      "Processing data of year 2008-09\n",
      "Processing data of year 2009-10\n",
      "Processing data of year 2010-11\n",
      "Processing data of year 2011-12\n",
      "Processing data of year 2012-13\n",
      "Processing data of year 2013-14\n",
      "Processing data of year 2014-15\n",
      "Processing data of year 2015-16\n",
      "Processing data of year 2016-17\n",
      "Processing data of year 2017-18\n",
      "Processing data of year 2018-19\n",
      "Processing data of year 2019-20\n",
      "Processing data of year 2020-21\n",
      "Processing data of year 2021-22\n",
      "Processing data of year 2022-23\n",
      "Processing data of year 2023-24 (April-December)\n"
     ]
    }
   ],
   "source": [
    "#Adding Percent Share to StateWise Data\n",
    "\n",
    "for k in range(17, len(years)):\n",
    "    df = pd.read_csv(f\"../../Datasets/Export/Export-State-Wise/{years[k]}.csv\")\n",
    "    print(f\"Processing data of year {years[k]}\")\n",
    "\n",
    "\n",
    "    if df[\"Qty(MT)\"].dtype != \"float64\":\n",
    "        df[\"Qty(MT)\"] = df[\"Qty(MT)\"].apply(lambda x: x.replace(\",\", \"\")).astype(float)\n",
    "    if df[\"Rs(Crore)\"].dtype != \"float64\":\n",
    "        df[\"Rs(Crore)\"] = df[\"Rs(Crore)\"].apply(lambda x: x.replace(\",\", \"\")).astype(float)\n",
    "\n",
    "    totalQty = df.iloc[-1][\"Qty(MT)\"]\n",
    "    totalRs = df.iloc[-1][\"Rs(Crore)\"]\n",
    "\n",
    "    df[\"% Share(Qty)\"] = ((df[\"Qty(MT)\"] / totalQty) * 100).round(3)\n",
    "    df[\"% Share(Rs)\"] = ((df[\"Rs(Crore)\"] / totalRs) * 100).round(3)\n",
    "    df[\"MT per Crore\"] = (df[\"Qty(MT)\"] / df[\"Rs(Crore)\"]).round(2)\n",
    "\n",
    "    df.to_csv(f\"../../Datasets/Export/Export-State-Wise/{years[k]}.csv\", index=None)"
   ]
  },
  {
   "cell_type": "code",
   "execution_count": 6,
   "id": "e08c8185-d68b-4d87-9cf5-f6db1e89fe65",
   "metadata": {},
   "outputs": [
    {
     "name": "stdout",
     "output_type": "stream",
     "text": [
      "Processing data of year 2008-09\n",
      "Processing data of year 2009-10\n",
      "Processing data of year 2010-11\n",
      "Processing data of year 2011-12\n",
      "Processing data of year 2012-13\n",
      "Processing data of year 2013-14\n",
      "Processing data of year 2014-15\n",
      "Processing data of year 2015-16\n",
      "Processing data of year 2016-17\n",
      "Processing data of year 2017-18\n",
      "Processing data of year 2018-19\n",
      "Processing data of year 2019-20\n",
      "Processing data of year 2020-21\n",
      "Processing data of year 2021-22\n",
      "Processing data of year 2022-23\n",
      "Processing data of year 2023-24 (April-December)\n"
     ]
    }
   ],
   "source": [
    "#Adding Percent Share to PortWise Data\n",
    "\n",
    "for k in range(20, len(years)):\n",
    "    df = pd.read_csv(f\"../../Datasets/Export/Export-Port-Wise/{years[k]}.csv\")\n",
    "    print(f\"Processing data of year {years[k]}\")\n",
    "\n",
    "\n",
    "    if df[\"Qty(MT)\"].dtype != \"float64\":\n",
    "        df[\"Qty(MT)\"] = df[\"Qty(MT)\"].apply(lambda x: x.replace(\",\", \"\")).astype(float)\n",
    "    if df[\"Rs(Crore)\"].dtype != \"float64\":\n",
    "        df[\"Rs(Crore)\"] = df[\"Rs(Crore)\"].apply(lambda x: x.replace(\",\", \"\")).astype(float)\n",
    "\n",
    "    totalQty = df.iloc[-1][\"Qty(MT)\"]\n",
    "    totalRs = df.iloc[-1][\"Rs(Crore)\"]\n",
    "\n",
    "    df[\"% Share(Qty)\"] = ((df[\"Qty(MT)\"] / totalQty) * 100).round(3)\n",
    "    df[\"% Share(Rs)\"] = ((df[\"Rs(Crore)\"] / totalRs) * 100).round(3)\n",
    "    df[\"MT per Crore\"] = (df[\"Qty(MT)\"] / df[\"Rs(Crore)\"]).round(2)\n",
    "\n",
    "    df.to_csv(f\"../../Datasets/Export/Export-Port-Wise/{years[k]}.csv\", index=None)"
   ]
  }
 ],
 "metadata": {
  "kernelspec": {
   "display_name": "Python 3 (ipykernel)",
   "language": "python",
   "name": "python3"
  },
  "language_info": {
   "codemirror_mode": {
    "name": "ipython",
    "version": 3
   },
   "file_extension": ".py",
   "mimetype": "text/x-python",
   "name": "python",
   "nbconvert_exporter": "python",
   "pygments_lexer": "ipython3",
   "version": "3.11.5"
  }
 },
 "nbformat": 4,
 "nbformat_minor": 5
}
