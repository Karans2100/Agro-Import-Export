{
 "cells": [
  {
   "cell_type": "code",
   "execution_count": 112,
   "id": "ec9bdd0e-1a9c-4afa-9d25-afece69e1c65",
   "metadata": {},
   "outputs": [],
   "source": [
    "import pandas as pd\n",
    "import numpy as np\n",
    "import matplotlib.pyplot as plt"
   ]
  },
  {
   "cell_type": "code",
   "execution_count": 118,
   "id": "df17926b-3e43-4d16-8d82-a9f01326e124",
   "metadata": {},
   "outputs": [
    {
     "data": {
      "text/html": [
       "<div>\n",
       "<style scoped>\n",
       "    .dataframe tbody tr th:only-of-type {\n",
       "        vertical-align: middle;\n",
       "    }\n",
       "\n",
       "    .dataframe tbody tr th {\n",
       "        vertical-align: top;\n",
       "    }\n",
       "\n",
       "    .dataframe thead th {\n",
       "        text-align: right;\n",
       "    }\n",
       "</style>\n",
       "<table border=\"1\" class=\"dataframe\">\n",
       "  <thead>\n",
       "    <tr style=\"text-align: right;\">\n",
       "      <th></th>\n",
       "      <th>Qty(MT)</th>\n",
       "      <th>Rs(Crore)</th>\n",
       "      <th>% Share(Qty)</th>\n",
       "      <th>% Share(Rs)</th>\n",
       "      <th>MT per Crore</th>\n",
       "    </tr>\n",
       "    <tr>\n",
       "      <th>Year</th>\n",
       "      <th></th>\n",
       "      <th></th>\n",
       "      <th></th>\n",
       "      <th></th>\n",
       "      <th></th>\n",
       "    </tr>\n",
       "  </thead>\n",
       "  <tbody>\n",
       "    <tr>\n",
       "      <th>2018-19</th>\n",
       "      <td>226224.99</td>\n",
       "      <td>424.95</td>\n",
       "      <td>0.976</td>\n",
       "      <td>0.315</td>\n",
       "      <td>532.36</td>\n",
       "    </tr>\n",
       "    <tr>\n",
       "      <th>2019-20</th>\n",
       "      <td>217354.23</td>\n",
       "      <td>439.14</td>\n",
       "      <td>1.190</td>\n",
       "      <td>0.368</td>\n",
       "      <td>494.95</td>\n",
       "    </tr>\n",
       "    <tr>\n",
       "      <th>2020-21</th>\n",
       "      <td>2088487.66</td>\n",
       "      <td>4037.60</td>\n",
       "      <td>6.504</td>\n",
       "      <td>2.638</td>\n",
       "      <td>517.26</td>\n",
       "    </tr>\n",
       "    <tr>\n",
       "      <th>2021-22</th>\n",
       "      <td>7239366.77</td>\n",
       "      <td>15840.34</td>\n",
       "      <td>16.929</td>\n",
       "      <td>8.573</td>\n",
       "      <td>457.02</td>\n",
       "    </tr>\n",
       "    <tr>\n",
       "      <th>2022-23</th>\n",
       "      <td>4693264.09</td>\n",
       "      <td>11826.90</td>\n",
       "      <td>10.555</td>\n",
       "      <td>5.353</td>\n",
       "      <td>396.83</td>\n",
       "    </tr>\n",
       "  </tbody>\n",
       "</table>\n",
       "</div>"
      ],
      "text/plain": [
       "            Qty(MT)  Rs(Crore)  % Share(Qty)  % Share(Rs)  MT per Crore\n",
       "Year                                                                   \n",
       "2018-19   226224.99     424.95         0.976        0.315        532.36\n",
       "2019-20   217354.23     439.14         1.190        0.368        494.95\n",
       "2020-21  2088487.66    4037.60         6.504        2.638        517.26\n",
       "2021-22  7239366.77   15840.34        16.929        8.573        457.02\n",
       "2022-23  4693264.09   11826.90        10.555        5.353        396.83"
      ]
     },
     "execution_count": 118,
     "metadata": {},
     "output_type": "execute_result"
    }
   ],
   "source": [
    "df = pd.read_csv(\"../Datasets/Export/Product-Wise-Time-Series/Wheat.csv\", index_col = \"Year\", parse_dates = True)\n",
    "df = df.dropna()\n",
    "df = df[: -2]\n",
    "df.tail()"
   ]
  },
  {
   "cell_type": "code",
   "execution_count": 119,
   "id": "be9221ff-02de-4b1d-9229-9ab1334d6128",
   "metadata": {},
   "outputs": [
    {
     "data": {
      "text/plain": [
       "(35, 5)"
      ]
     },
     "execution_count": 119,
     "metadata": {},
     "output_type": "execute_result"
    }
   ],
   "source": [
    "df.shape"
   ]
  },
  {
   "cell_type": "code",
   "execution_count": 120,
   "id": "3620c66b-8acf-461d-a2a0-7477b5cfe1bd",
   "metadata": {},
   "outputs": [
    {
     "data": {
      "text/html": [
       "<div>\n",
       "<style scoped>\n",
       "    .dataframe tbody tr th:only-of-type {\n",
       "        vertical-align: middle;\n",
       "    }\n",
       "\n",
       "    .dataframe tbody tr th {\n",
       "        vertical-align: top;\n",
       "    }\n",
       "\n",
       "    .dataframe thead th {\n",
       "        text-align: right;\n",
       "    }\n",
       "</style>\n",
       "<table border=\"1\" class=\"dataframe\">\n",
       "  <thead>\n",
       "    <tr style=\"text-align: right;\">\n",
       "      <th></th>\n",
       "      <th>Qty(MT)</th>\n",
       "      <th>Rs(Crore)</th>\n",
       "      <th>% Share(Qty)</th>\n",
       "      <th>% Share(Rs)</th>\n",
       "      <th>MT per Crore</th>\n",
       "    </tr>\n",
       "    <tr>\n",
       "      <th>Year</th>\n",
       "      <th></th>\n",
       "      <th></th>\n",
       "      <th></th>\n",
       "      <th></th>\n",
       "      <th></th>\n",
       "    </tr>\n",
       "  </thead>\n",
       "  <tbody>\n",
       "    <tr>\n",
       "      <th>1987-88</th>\n",
       "      <td>253662.00</td>\n",
       "      <td>35.39</td>\n",
       "      <td>24.107</td>\n",
       "      <td>4.671</td>\n",
       "      <td>7167.62</td>\n",
       "    </tr>\n",
       "    <tr>\n",
       "      <th>1988-89</th>\n",
       "      <td>15800.00</td>\n",
       "      <td>2.99</td>\n",
       "      <td>1.742</td>\n",
       "      <td>0.373</td>\n",
       "      <td>5284.28</td>\n",
       "    </tr>\n",
       "    <tr>\n",
       "      <th>1990-91</th>\n",
       "      <td>139458.00</td>\n",
       "      <td>31.13</td>\n",
       "      <td>14.218</td>\n",
       "      <td>3.378</td>\n",
       "      <td>4479.86</td>\n",
       "    </tr>\n",
       "    <tr>\n",
       "      <th>1991-92</th>\n",
       "      <td>658250.00</td>\n",
       "      <td>158.08</td>\n",
       "      <td>28.936</td>\n",
       "      <td>8.770</td>\n",
       "      <td>4164.03</td>\n",
       "    </tr>\n",
       "    <tr>\n",
       "      <th>1992-93</th>\n",
       "      <td>36749.00</td>\n",
       "      <td>10.21</td>\n",
       "      <td>2.527</td>\n",
       "      <td>0.502</td>\n",
       "      <td>3599.31</td>\n",
       "    </tr>\n",
       "    <tr>\n",
       "      <th>1993-94</th>\n",
       "      <td>350.00</td>\n",
       "      <td>0.19</td>\n",
       "      <td>0.019</td>\n",
       "      <td>0.007</td>\n",
       "      <td>1842.11</td>\n",
       "    </tr>\n",
       "    <tr>\n",
       "      <th>1994-95</th>\n",
       "      <td>86628.00</td>\n",
       "      <td>42.34</td>\n",
       "      <td>4.274</td>\n",
       "      <td>1.454</td>\n",
       "      <td>2046.01</td>\n",
       "    </tr>\n",
       "    <tr>\n",
       "      <th>1995-96</th>\n",
       "      <td>632468.00</td>\n",
       "      <td>366.76</td>\n",
       "      <td>8.446</td>\n",
       "      <td>4.657</td>\n",
       "      <td>1724.47</td>\n",
       "    </tr>\n",
       "    <tr>\n",
       "      <th>1996-97</th>\n",
       "      <td>1145895.17</td>\n",
       "      <td>698.45</td>\n",
       "      <td>18.772</td>\n",
       "      <td>9.120</td>\n",
       "      <td>1640.63</td>\n",
       "    </tr>\n",
       "    <tr>\n",
       "      <th>1998-99</th>\n",
       "      <td>1761.00</td>\n",
       "      <td>1.36</td>\n",
       "      <td>0.029</td>\n",
       "      <td>0.014</td>\n",
       "      <td>1294.85</td>\n",
       "    </tr>\n",
       "    <tr>\n",
       "      <th>2000-01</th>\n",
       "      <td>813492.28</td>\n",
       "      <td>415.09</td>\n",
       "      <td>17.231</td>\n",
       "      <td>4.557</td>\n",
       "      <td>1959.80</td>\n",
       "    </tr>\n",
       "    <tr>\n",
       "      <th>2001-02</th>\n",
       "      <td>2649380.23</td>\n",
       "      <td>1330.21</td>\n",
       "      <td>35.403</td>\n",
       "      <td>13.220</td>\n",
       "      <td>1991.70</td>\n",
       "    </tr>\n",
       "    <tr>\n",
       "      <th>2002-03</th>\n",
       "      <td>3671253.97</td>\n",
       "      <td>1759.87</td>\n",
       "      <td>31.909</td>\n",
       "      <td>12.974</td>\n",
       "      <td>2086.09</td>\n",
       "    </tr>\n",
       "    <tr>\n",
       "      <th>2003-04</th>\n",
       "      <td>4093080.52</td>\n",
       "      <td>2391.15</td>\n",
       "      <td>34.484</td>\n",
       "      <td>16.992</td>\n",
       "      <td>1711.76</td>\n",
       "    </tr>\n",
       "    <tr>\n",
       "      <th>2004-05</th>\n",
       "      <td>2009343.03</td>\n",
       "      <td>1459.82</td>\n",
       "      <td>16.919</td>\n",
       "      <td>8.648</td>\n",
       "      <td>1376.43</td>\n",
       "    </tr>\n",
       "    <tr>\n",
       "      <th>2005-06</th>\n",
       "      <td>746173.23</td>\n",
       "      <td>557.53</td>\n",
       "      <td>7.279</td>\n",
       "      <td>3.007</td>\n",
       "      <td>1338.36</td>\n",
       "    </tr>\n",
       "    <tr>\n",
       "      <th>2006-07</th>\n",
       "      <td>46633.21</td>\n",
       "      <td>35.35</td>\n",
       "      <td>0.447</td>\n",
       "      <td>0.168</td>\n",
       "      <td>1319.19</td>\n",
       "    </tr>\n",
       "    <tr>\n",
       "      <th>2007-08</th>\n",
       "      <td>217.27</td>\n",
       "      <td>0.21</td>\n",
       "      <td>0.001</td>\n",
       "      <td>0.001</td>\n",
       "      <td>1034.62</td>\n",
       "    </tr>\n",
       "    <tr>\n",
       "      <th>2008-09</th>\n",
       "      <td>1120.52</td>\n",
       "      <td>1.46</td>\n",
       "      <td>0.009</td>\n",
       "      <td>0.004</td>\n",
       "      <td>767.48</td>\n",
       "    </tr>\n",
       "    <tr>\n",
       "      <th>2010-11</th>\n",
       "      <td>394.47</td>\n",
       "      <td>0.70</td>\n",
       "      <td>0.003</td>\n",
       "      <td>0.002</td>\n",
       "      <td>563.53</td>\n",
       "    </tr>\n",
       "    <tr>\n",
       "      <th>2011-12</th>\n",
       "      <td>740746.76</td>\n",
       "      <td>1023.27</td>\n",
       "      <td>3.799</td>\n",
       "      <td>1.238</td>\n",
       "      <td>723.90</td>\n",
       "    </tr>\n",
       "    <tr>\n",
       "      <th>2012-13</th>\n",
       "      <td>6514810.60</td>\n",
       "      <td>10529.00</td>\n",
       "      <td>21.858</td>\n",
       "      <td>8.950</td>\n",
       "      <td>618.75</td>\n",
       "    </tr>\n",
       "    <tr>\n",
       "      <th>2013-14</th>\n",
       "      <td>5562374.74</td>\n",
       "      <td>9261.61</td>\n",
       "      <td>18.540</td>\n",
       "      <td>6.764</td>\n",
       "      <td>600.58</td>\n",
       "    </tr>\n",
       "    <tr>\n",
       "      <th>2014-15</th>\n",
       "      <td>2924070.18</td>\n",
       "      <td>4991.84</td>\n",
       "      <td>10.776</td>\n",
       "      <td>3.801</td>\n",
       "      <td>585.77</td>\n",
       "    </tr>\n",
       "    <tr>\n",
       "      <th>2015-16</th>\n",
       "      <td>666668.95</td>\n",
       "      <td>1061.77</td>\n",
       "      <td>3.256</td>\n",
       "      <td>0.988</td>\n",
       "      <td>627.88</td>\n",
       "    </tr>\n",
       "    <tr>\n",
       "      <th>2016-17</th>\n",
       "      <td>265606.06</td>\n",
       "      <td>447.85</td>\n",
       "      <td>1.242</td>\n",
       "      <td>0.393</td>\n",
       "      <td>593.07</td>\n",
       "    </tr>\n",
       "    <tr>\n",
       "      <th>2017-18</th>\n",
       "      <td>322790.14</td>\n",
       "      <td>624.37</td>\n",
       "      <td>1.441</td>\n",
       "      <td>0.496</td>\n",
       "      <td>516.99</td>\n",
       "    </tr>\n",
       "    <tr>\n",
       "      <th>2018-19</th>\n",
       "      <td>226224.99</td>\n",
       "      <td>424.95</td>\n",
       "      <td>0.976</td>\n",
       "      <td>0.315</td>\n",
       "      <td>532.36</td>\n",
       "    </tr>\n",
       "    <tr>\n",
       "      <th>2019-20</th>\n",
       "      <td>217354.23</td>\n",
       "      <td>439.14</td>\n",
       "      <td>1.190</td>\n",
       "      <td>0.368</td>\n",
       "      <td>494.95</td>\n",
       "    </tr>\n",
       "    <tr>\n",
       "      <th>2020-21</th>\n",
       "      <td>2088487.66</td>\n",
       "      <td>4037.60</td>\n",
       "      <td>6.504</td>\n",
       "      <td>2.638</td>\n",
       "      <td>517.26</td>\n",
       "    </tr>\n",
       "    <tr>\n",
       "      <th>2021-22</th>\n",
       "      <td>7239366.77</td>\n",
       "      <td>15840.34</td>\n",
       "      <td>16.929</td>\n",
       "      <td>8.573</td>\n",
       "      <td>457.02</td>\n",
       "    </tr>\n",
       "    <tr>\n",
       "      <th>2022-23</th>\n",
       "      <td>4693264.09</td>\n",
       "      <td>11826.90</td>\n",
       "      <td>10.555</td>\n",
       "      <td>5.353</td>\n",
       "      <td>396.83</td>\n",
       "    </tr>\n",
       "  </tbody>\n",
       "</table>\n",
       "</div>"
      ],
      "text/plain": [
       "            Qty(MT)  Rs(Crore)  % Share(Qty)  % Share(Rs)  MT per Crore\n",
       "Year                                                                   \n",
       "1987-88   253662.00      35.39        24.107        4.671       7167.62\n",
       "1988-89    15800.00       2.99         1.742        0.373       5284.28\n",
       "1990-91   139458.00      31.13        14.218        3.378       4479.86\n",
       "1991-92   658250.00     158.08        28.936        8.770       4164.03\n",
       "1992-93    36749.00      10.21         2.527        0.502       3599.31\n",
       "1993-94      350.00       0.19         0.019        0.007       1842.11\n",
       "1994-95    86628.00      42.34         4.274        1.454       2046.01\n",
       "1995-96   632468.00     366.76         8.446        4.657       1724.47\n",
       "1996-97  1145895.17     698.45        18.772        9.120       1640.63\n",
       "1998-99     1761.00       1.36         0.029        0.014       1294.85\n",
       "2000-01   813492.28     415.09        17.231        4.557       1959.80\n",
       "2001-02  2649380.23    1330.21        35.403       13.220       1991.70\n",
       "2002-03  3671253.97    1759.87        31.909       12.974       2086.09\n",
       "2003-04  4093080.52    2391.15        34.484       16.992       1711.76\n",
       "2004-05  2009343.03    1459.82        16.919        8.648       1376.43\n",
       "2005-06   746173.23     557.53         7.279        3.007       1338.36\n",
       "2006-07    46633.21      35.35         0.447        0.168       1319.19\n",
       "2007-08      217.27       0.21         0.001        0.001       1034.62\n",
       "2008-09     1120.52       1.46         0.009        0.004        767.48\n",
       "2010-11      394.47       0.70         0.003        0.002        563.53\n",
       "2011-12   740746.76    1023.27         3.799        1.238        723.90\n",
       "2012-13  6514810.60   10529.00        21.858        8.950        618.75\n",
       "2013-14  5562374.74    9261.61        18.540        6.764        600.58\n",
       "2014-15  2924070.18    4991.84        10.776        3.801        585.77\n",
       "2015-16   666668.95    1061.77         3.256        0.988        627.88\n",
       "2016-17   265606.06     447.85         1.242        0.393        593.07\n",
       "2017-18   322790.14     624.37         1.441        0.496        516.99\n",
       "2018-19   226224.99     424.95         0.976        0.315        532.36\n",
       "2019-20   217354.23     439.14         1.190        0.368        494.95\n",
       "2020-21  2088487.66    4037.60         6.504        2.638        517.26\n",
       "2021-22  7239366.77   15840.34        16.929        8.573        457.02\n",
       "2022-23  4693264.09   11826.90        10.555        5.353        396.83"
      ]
     },
     "execution_count": 120,
     "metadata": {},
     "output_type": "execute_result"
    }
   ],
   "source": [
    "df = df[df[\"% Share(Rs)\"] != 0]\n",
    "df"
   ]
  },
  {
   "cell_type": "code",
   "execution_count": 121,
   "id": "7f0d91cd-317a-42f8-8745-e62279b6c6c8",
   "metadata": {},
   "outputs": [
    {
     "data": {
      "text/plain": [
       "<Axes: xlabel='Year'>"
      ]
     },
     "execution_count": 121,
     "metadata": {},
     "output_type": "execute_result"
    },
    {
     "data": {
      "image/png": "[encoded data removed]",
      "text/plain": [
       "<Figure size 640x480 with 1 Axes>"
      ]
     },
     "metadata": {},
     "output_type": "display_data"
    }
   ],
   "source": [
    "df[\"% Share(Rs)\"].plot()"
   ]
  },
  {
   "cell_type": "code",
   "execution_count": 122,
   "id": "8175719d-bb36-47ee-8df5-33890f95d936",
   "metadata": {},
   "outputs": [],
   "source": [
    "from statsmodels.tsa.stattools import adfuller\n",
    "\n",
    "def ad_test(dataset):\n",
    "    dftest = adfuller(dataset, autolag = \"AIC\")\n",
    "    print(\"P value: \", dftest[1])"
   ]
  },
  {
   "cell_type": "code",
   "execution_count": 123,
   "id": "8f664838-6889-4123-a11c-d10d5ddb0295",
   "metadata": {},
   "outputs": [
    {
     "name": "stdout",
     "output_type": "stream",
     "text": [
      "P value:  0.022925681475839958\n"
     ]
    }
   ],
   "source": [
    "ad_test(df[\"% Share(Rs)\"])"
   ]
  },
  {
   "cell_type": "code",
   "execution_count": 124,
   "id": "4b92ccdc-4464-4495-b689-4825702080d0",
   "metadata": {},
   "outputs": [
    {
     "name": "stdout",
     "output_type": "stream",
     "text": [
      "P value:  0.03437566575066892\n"
     ]
    }
   ],
   "source": [
    "ad_test(df[\"% Share(Qty)\"])"
   ]
  },
  {
   "cell_type": "code",
   "execution_count": 136,
   "id": "73770b18-fae8-4244-9638-759cad33cff5",
   "metadata": {},
   "outputs": [
    {
     "name": "stdout",
     "output_type": "stream",
     "text": [
      "P value:  0.34913841842655313\n"
     ]
    }
   ],
   "source": [
    "ad_test(df[\"MT per Crore\"])"
   ]
  },
  {
   "cell_type": "code",
   "execution_count": 137,
   "id": "cda84a75-2e0c-4463-b728-3f0d84a54b74",
   "metadata": {},
   "outputs": [
    {
     "name": "stdout",
     "output_type": "stream",
     "text": [
      "P value:  0.9918616443005517\n"
     ]
    }
   ],
   "source": [
    "ad_test(df[\"Rs(Crore)\"])"
   ]
  },
  {
   "cell_type": "code",
   "execution_count": 138,
   "id": "659aed05-763e-40e9-b6e2-afc3af752ad3",
   "metadata": {},
   "outputs": [
    {
     "name": "stdout",
     "output_type": "stream",
     "text": [
      "P value:  0.13283245033640095\n"
     ]
    }
   ],
   "source": [
    "ad_test(df[\"Qty(MT)\"])"
   ]
  },
  {
   "cell_type": "code",
   "execution_count": 125,
   "id": "53ab2c64-e11a-4861-b781-8684f635f02b",
   "metadata": {},
   "outputs": [],
   "source": [
    "from pmdarima import auto_arima\n",
    "import warnings\n",
    "warnings.filterwarnings(\"ignore\")"
   ]
  },
  {
   "cell_type": "code",
   "execution_count": 126,
   "id": "60c1b292-0fce-4fbc-99e6-285816adc83d",
   "metadata": {},
   "outputs": [
    {
     "name": "stdout",
     "output_type": "stream",
     "text": [
      "Performing stepwise search to minimize aic\n",
      " ARIMA(2,0,2)(0,0,0)[0] intercept   : AIC=185.924, Time=0.40 sec\n",
      " ARIMA(0,0,0)(0,0,0)[0] intercept   : AIC=191.599, Time=0.03 sec\n",
      " ARIMA(1,0,0)(0,0,0)[0] intercept   : AIC=182.541, Time=0.05 sec\n",
      " ARIMA(0,0,1)(0,0,0)[0] intercept   : AIC=180.702, Time=0.06 sec\n",
      " ARIMA(0,0,0)(0,0,0)[0]             : AIC=208.964, Time=0.02 sec\n",
      " ARIMA(1,0,1)(0,0,0)[0] intercept   : AIC=182.607, Time=0.11 sec\n",
      " ARIMA(0,0,2)(0,0,0)[0] intercept   : AIC=182.646, Time=0.12 sec\n",
      " ARIMA(1,0,2)(0,0,0)[0] intercept   : AIC=184.519, Time=0.19 sec\n",
      " ARIMA(0,0,1)(0,0,0)[0]             : AIC=190.210, Time=0.04 sec\n",
      "\n",
      "Best model:  ARIMA(0,0,1)(0,0,0)[0] intercept\n",
      "Total fit time: 1.014 seconds\n"
     ]
    },
    {
     "data": {
      "text/html": [
       "<table class=\"simpletable\">\n",
       "<caption>SARIMAX Results</caption>\n",
       "<tr>\n",
       "  <th>Dep. Variable:</th>           <td>y</td>        <th>  No. Observations:  </th>   <td>32</td>   \n",
       "</tr>\n",
       "<tr>\n",
       "  <th>Model:</th>           <td>SARIMAX(0, 0, 1)</td> <th>  Log Likelihood     </th> <td>-87.351</td>\n",
       "</tr>\n",
       "<tr>\n",
       "  <th>Date:</th>            <td>Thu, 11 Apr 2024</td> <th>  AIC                </th> <td>180.702</td>\n",
       "</tr>\n",
       "<tr>\n",
       "  <th>Time:</th>                <td>14:42:30</td>     <th>  BIC                </th> <td>185.099</td>\n",
       "</tr>\n",
       "<tr>\n",
       "  <th>Sample:</th>                  <td>0</td>        <th>  HQIC               </th> <td>182.160</td>\n",
       "</tr>\n",
       "<tr>\n",
       "  <th></th>                       <td> - 32</td>      <th>                     </th>    <td> </td>   \n",
       "</tr>\n",
       "<tr>\n",
       "  <th>Covariance Type:</th>        <td>opg</td>       <th>                     </th>    <td> </td>   \n",
       "</tr>\n",
       "</table>\n",
       "<table class=\"simpletable\">\n",
       "<tr>\n",
       "      <td></td>         <th>coef</th>     <th>std err</th>      <th>z</th>      <th>P>|z|</th>  <th>[0.025</th>    <th>0.975]</th>  \n",
       "</tr>\n",
       "<tr>\n",
       "  <th>intercept</th> <td>    4.1240</td> <td>    1.268</td> <td>    3.252</td> <td> 0.001</td> <td>    1.639</td> <td>    6.609</td>\n",
       "</tr>\n",
       "<tr>\n",
       "  <th>ma.L1</th>     <td>    0.6772</td> <td>    0.173</td> <td>    3.910</td> <td> 0.000</td> <td>    0.338</td> <td>    1.017</td>\n",
       "</tr>\n",
       "<tr>\n",
       "  <th>sigma2</th>    <td>   13.4958</td> <td>    4.175</td> <td>    3.233</td> <td> 0.001</td> <td>    5.313</td> <td>   21.679</td>\n",
       "</tr>\n",
       "</table>\n",
       "<table class=\"simpletable\">\n",
       "<tr>\n",
       "  <th>Ljung-Box (L1) (Q):</th>     <td>0.08</td> <th>  Jarque-Bera (JB):  </th> <td>1.90</td>\n",
       "</tr>\n",
       "<tr>\n",
       "  <th>Prob(Q):</th>                <td>0.78</td> <th>  Prob(JB):          </th> <td>0.39</td>\n",
       "</tr>\n",
       "<tr>\n",
       "  <th>Heteroskedasticity (H):</th> <td>0.59</td> <th>  Skew:              </th> <td>0.59</td>\n",
       "</tr>\n",
       "<tr>\n",
       "  <th>Prob(H) (two-sided):</th>    <td>0.39</td> <th>  Kurtosis:          </th> <td>2.83</td>\n",
       "</tr>\n",
       "</table><br/><br/>Warnings:<br/>[1] Covariance matrix calculated using the outer product of gradients (complex-step)."
      ],
      "text/latex": [
       "\\begin{center}\n",
       "\\begin{tabular}{lclc}\n",
       "\\toprule\n",
       "\\textbf{Dep. Variable:}          &        y         & \\textbf{  No. Observations:  } &     32      \\\\\n",
       "\\textbf{Model:}                  & SARIMAX(0, 0, 1) & \\textbf{  Log Likelihood     } &  -87.351    \\\\\n",
       "\\textbf{Date:}                   & Thu, 11 Apr 2024 & \\textbf{  AIC                } &  180.702    \\\\\n",
       "\\textbf{Time:}                   &     14:42:30     & \\textbf{  BIC                } &  185.099    \\\\\n",
       "\\textbf{Sample:}                 &        0         & \\textbf{  HQIC               } &  182.160    \\\\\n",
       "\\textbf{}                        &       - 32       & \\textbf{                     } &             \\\\\n",
       "\\textbf{Covariance Type:}        &       opg        & \\textbf{                     } &             \\\\\n",
       "\\bottomrule\n",
       "\\end{tabular}\n",
       "\\begin{tabular}{lcccccc}\n",
       "                   & \\textbf{coef} & \\textbf{std err} & \\textbf{z} & \\textbf{P$> |$z$|$} & \\textbf{[0.025} & \\textbf{0.975]}  \\\\\n",
       "\\midrule\n",
       "\\textbf{intercept} &       4.1240  &        1.268     &     3.252  &         0.001        &        1.639    &        6.609     \\\\\n",
       "\\textbf{ma.L1}     &       0.6772  &        0.173     &     3.910  &         0.000        &        0.338    &        1.017     \\\\\n",
       "\\textbf{sigma2}    &      13.4958  &        4.175     &     3.233  &         0.001        &        5.313    &       21.679     \\\\\n",
       "\\bottomrule\n",
       "\\end{tabular}\n",
       "\\begin{tabular}{lclc}\n",
       "\\textbf{Ljung-Box (L1) (Q):}     & 0.08 & \\textbf{  Jarque-Bera (JB):  } & 1.90  \\\\\n",
       "\\textbf{Prob(Q):}                & 0.78 & \\textbf{  Prob(JB):          } & 0.39  \\\\\n",
       "\\textbf{Heteroskedasticity (H):} & 0.59 & \\textbf{  Skew:              } & 0.59  \\\\\n",
       "\\textbf{Prob(H) (two-sided):}    & 0.39 & \\textbf{  Kurtosis:          } & 2.83  \\\\\n",
       "\\bottomrule\n",
       "\\end{tabular}\n",
       "%\\caption{SARIMAX Results}\n",
       "\\end{center}\n",
       "\n",
       "Warnings: \\newline\n",
       " [1] Covariance matrix calculated using the outer product of gradients (complex-step)."
      ],
      "text/plain": [
       "<class 'statsmodels.iolib.summary.Summary'>\n",
       "\"\"\"\n",
       "                               SARIMAX Results                                \n",
       "==============================================================================\n",
       "Dep. Variable:                      y   No. Observations:                   32\n",
       "Model:               SARIMAX(0, 0, 1)   Log Likelihood                 -87.351\n",
       "Date:                Thu, 11 Apr 2024   AIC                            180.702\n",
       "Time:                        14:42:30   BIC                            185.099\n",
       "Sample:                             0   HQIC                           182.160\n",
       "                                 - 32                                         \n",
       "Covariance Type:                  opg                                         \n",
       "==============================================================================\n",
       "                 coef    std err          z      P>|z|      [0.025      0.975]\n",
       "------------------------------------------------------------------------------\n",
       "intercept      4.1240      1.268      3.252      0.001       1.639       6.609\n",
       "ma.L1          0.6772      0.173      3.910      0.000       0.338       1.017\n",
       "sigma2        13.4958      4.175      3.233      0.001       5.313      21.679\n",
       "===================================================================================\n",
       "Ljung-Box (L1) (Q):                   0.08   Jarque-Bera (JB):                 1.90\n",
       "Prob(Q):                              0.78   Prob(JB):                         0.39\n",
       "Heteroskedasticity (H):               0.59   Skew:                             0.59\n",
       "Prob(H) (two-sided):                  0.39   Kurtosis:                         2.83\n",
       "===================================================================================\n",
       "\n",
       "Warnings:\n",
       "[1] Covariance matrix calculated using the outer product of gradients (complex-step).\n",
       "\"\"\""
      ]
     },
     "execution_count": 126,
     "metadata": {},
     "output_type": "execute_result"
    }
   ],
   "source": [
    "stepwise_fit = auto_arima(df[\"% Share(Rs)\"], trace=True, suppress_warnings=True)\n",
    "stepwise_fit.summary()"
   ]
  },
  {
   "cell_type": "code",
   "execution_count": 127,
   "id": "984b8323-eb95-418b-8eb3-04aadf0141ae",
   "metadata": {},
   "outputs": [],
   "source": [
    "from statsmodels.tsa.arima.model import ARIMA"
   ]
  },
  {
   "cell_type": "code",
   "execution_count": 132,
   "id": "ea7c6e5d-b36a-40af-880a-ef10900db016",
   "metadata": {},
   "outputs": [
    {
     "name": "stdout",
     "output_type": "stream",
     "text": [
      "(24, 5) (8, 5)\n"
     ]
    }
   ],
   "source": [
    "train = df.iloc[: -8]\n",
    "test = df.iloc[-8: ]\n",
    "print(train.shape, test.shape)"
   ]
  },
  {
   "cell_type": "code",
   "execution_count": 133,
   "id": "2be531b7-29ab-40dd-9435-a6488ff05848",
   "metadata": {},
   "outputs": [
    {
     "data": {
      "text/html": [
       "<table class=\"simpletable\">\n",
       "<caption>SARIMAX Results</caption>\n",
       "<tr>\n",
       "  <th>Dep. Variable:</th>      <td>% Share(Rs)</td>   <th>  No. Observations:  </th>   <td>24</td>   \n",
       "</tr>\n",
       "<tr>\n",
       "  <th>Model:</th>            <td>ARIMA(0, 0, 1)</td>  <th>  Log Likelihood     </th> <td>-67.354</td>\n",
       "</tr>\n",
       "<tr>\n",
       "  <th>Date:</th>            <td>Thu, 11 Apr 2024</td> <th>  AIC                </th> <td>140.708</td>\n",
       "</tr>\n",
       "<tr>\n",
       "  <th>Time:</th>                <td>14:43:39</td>     <th>  BIC                </th> <td>144.242</td>\n",
       "</tr>\n",
       "<tr>\n",
       "  <th>Sample:</th>                  <td>0</td>        <th>  HQIC               </th> <td>141.646</td>\n",
       "</tr>\n",
       "<tr>\n",
       "  <th></th>                       <td> - 24</td>      <th>                     </th>    <td> </td>   \n",
       "</tr>\n",
       "<tr>\n",
       "  <th>Covariance Type:</th>        <td>opg</td>       <th>                     </th>    <td> </td>   \n",
       "</tr>\n",
       "</table>\n",
       "<table class=\"simpletable\">\n",
       "<tr>\n",
       "     <td></td>       <th>coef</th>     <th>std err</th>      <th>z</th>      <th>P>|z|</th>  <th>[0.025</th>    <th>0.975]</th>  \n",
       "</tr>\n",
       "<tr>\n",
       "  <th>const</th>  <td>    4.7463</td> <td>    1.492</td> <td>    3.182</td> <td> 0.001</td> <td>    1.823</td> <td>    7.670</td>\n",
       "</tr>\n",
       "<tr>\n",
       "  <th>ma.L1</th>  <td>    0.6808</td> <td>    0.218</td> <td>    3.128</td> <td> 0.002</td> <td>    0.254</td> <td>    1.107</td>\n",
       "</tr>\n",
       "<tr>\n",
       "  <th>sigma2</th> <td>   15.6273</td> <td>    5.866</td> <td>    2.664</td> <td> 0.008</td> <td>    4.130</td> <td>   27.125</td>\n",
       "</tr>\n",
       "</table>\n",
       "<table class=\"simpletable\">\n",
       "<tr>\n",
       "  <th>Ljung-Box (L1) (Q):</th>     <td>0.01</td> <th>  Jarque-Bera (JB):  </th> <td>0.73</td>\n",
       "</tr>\n",
       "<tr>\n",
       "  <th>Prob(Q):</th>                <td>0.92</td> <th>  Prob(JB):          </th> <td>0.70</td>\n",
       "</tr>\n",
       "<tr>\n",
       "  <th>Heteroskedasticity (H):</th> <td>0.96</td> <th>  Skew:              </th> <td>0.35</td>\n",
       "</tr>\n",
       "<tr>\n",
       "  <th>Prob(H) (two-sided):</th>    <td>0.96</td> <th>  Kurtosis:          </th> <td>2.51</td>\n",
       "</tr>\n",
       "</table><br/><br/>Warnings:<br/>[1] Covariance matrix calculated using the outer product of gradients (complex-step)."
      ],
      "text/latex": [
       "\\begin{center}\n",
       "\\begin{tabular}{lclc}\n",
       "\\toprule\n",
       "\\textbf{Dep. Variable:}          &   \\% Share(Rs)   & \\textbf{  No. Observations:  } &     24      \\\\\n",
       "\\textbf{Model:}                  &  ARIMA(0, 0, 1)  & \\textbf{  Log Likelihood     } &  -67.354    \\\\\n",
       "\\textbf{Date:}                   & Thu, 11 Apr 2024 & \\textbf{  AIC                } &  140.708    \\\\\n",
       "\\textbf{Time:}                   &     14:43:39     & \\textbf{  BIC                } &  144.242    \\\\\n",
       "\\textbf{Sample:}                 &        0         & \\textbf{  HQIC               } &  141.646    \\\\\n",
       "\\textbf{}                        &       - 24       & \\textbf{                     } &             \\\\\n",
       "\\textbf{Covariance Type:}        &       opg        & \\textbf{                     } &             \\\\\n",
       "\\bottomrule\n",
       "\\end{tabular}\n",
       "\\begin{tabular}{lcccccc}\n",
       "                & \\textbf{coef} & \\textbf{std err} & \\textbf{z} & \\textbf{P$> |$z$|$} & \\textbf{[0.025} & \\textbf{0.975]}  \\\\\n",
       "\\midrule\n",
       "\\textbf{const}  &       4.7463  &        1.492     &     3.182  &         0.001        &        1.823    &        7.670     \\\\\n",
       "\\textbf{ma.L1}  &       0.6808  &        0.218     &     3.128  &         0.002        &        0.254    &        1.107     \\\\\n",
       "\\textbf{sigma2} &      15.6273  &        5.866     &     2.664  &         0.008        &        4.130    &       27.125     \\\\\n",
       "\\bottomrule\n",
       "\\end{tabular}\n",
       "\\begin{tabular}{lclc}\n",
       "\\textbf{Ljung-Box (L1) (Q):}     & 0.01 & \\textbf{  Jarque-Bera (JB):  } & 0.73  \\\\\n",
       "\\textbf{Prob(Q):}                & 0.92 & \\textbf{  Prob(JB):          } & 0.70  \\\\\n",
       "\\textbf{Heteroskedasticity (H):} & 0.96 & \\textbf{  Skew:              } & 0.35  \\\\\n",
       "\\textbf{Prob(H) (two-sided):}    & 0.96 & \\textbf{  Kurtosis:          } & 2.51  \\\\\n",
       "\\bottomrule\n",
       "\\end{tabular}\n",
       "%\\caption{SARIMAX Results}\n",
       "\\end{center}\n",
       "\n",
       "Warnings: \\newline\n",
       " [1] Covariance matrix calculated using the outer product of gradients (complex-step)."
      ],
      "text/plain": [
       "<class 'statsmodels.iolib.summary.Summary'>\n",
       "\"\"\"\n",
       "                               SARIMAX Results                                \n",
       "==============================================================================\n",
       "Dep. Variable:            % Share(Rs)   No. Observations:                   24\n",
       "Model:                 ARIMA(0, 0, 1)   Log Likelihood                 -67.354\n",
       "Date:                Thu, 11 Apr 2024   AIC                            140.708\n",
       "Time:                        14:43:39   BIC                            144.242\n",
       "Sample:                             0   HQIC                           141.646\n",
       "                                 - 24                                         \n",
       "Covariance Type:                  opg                                         \n",
       "==============================================================================\n",
       "                 coef    std err          z      P>|z|      [0.025      0.975]\n",
       "------------------------------------------------------------------------------\n",
       "const          4.7463      1.492      3.182      0.001       1.823       7.670\n",
       "ma.L1          0.6808      0.218      3.128      0.002       0.254       1.107\n",
       "sigma2        15.6273      5.866      2.664      0.008       4.130      27.125\n",
       "===================================================================================\n",
       "Ljung-Box (L1) (Q):                   0.01   Jarque-Bera (JB):                 0.73\n",
       "Prob(Q):                              0.92   Prob(JB):                         0.70\n",
       "Heteroskedasticity (H):               0.96   Skew:                             0.35\n",
       "Prob(H) (two-sided):                  0.96   Kurtosis:                         2.51\n",
       "===================================================================================\n",
       "\n",
       "Warnings:\n",
       "[1] Covariance matrix calculated using the outer product of gradients (complex-step).\n",
       "\"\"\""
      ]
     },
     "execution_count": 133,
     "metadata": {},
     "output_type": "execute_result"
    }
   ],
   "source": [
    "model = ARIMA(train[\"% Share(Rs)\"], order=(0, 0, 1))\n",
    "model = model.fit()\n",
    "model.summary()"
   ]
  },
  {
   "cell_type": "code",
   "execution_count": 134,
   "id": "ea6cf6b4-db3e-4618-97e0-4baed199d300",
   "metadata": {},
   "outputs": [
    {
     "name": "stdout",
     "output_type": "stream",
     "text": [
      "Year\n",
      "2015-16    4.911025\n",
      "2016-17    4.746296\n",
      "2017-18    4.746296\n",
      "2018-19    4.746296\n",
      "2019-20    4.746296\n",
      "2020-21    4.746296\n",
      "2021-22    4.746296\n",
      "2022-23    4.746296\n",
      "Name: predicted_mean, dtype: float64\n"
     ]
    }
   ],
   "source": [
    "start = len(train)\n",
    "end = len(test) + len(train) - 1\n",
    "pred = model.predict(start=start, end = end, typ = \"levels\")\n",
    "pred.index = df.index[start:end+1]\n",
    "print(pred)"
   ]
  },
  {
   "cell_type": "code",
   "execution_count": 135,
   "id": "2abd4e4a-02c2-44a7-8fc2-8a43bd7c5b5e",
   "metadata": {},
   "outputs": [
    {
     "data": {
      "text/plain": [
       "<Axes: xlabel='Year'>"
      ]
     },
     "execution_count": 135,
     "metadata": {},
     "output_type": "execute_result"
    },
    {
     "data": {
      "image/png": "[encoded data removed]",
      "text/plain": [
       "<Figure size 640x480 with 1 Axes>"
      ]
     },
     "metadata": {},
     "output_type": "display_data"
    }
   ],
   "source": [
    "pred.plot(legend=True)\n",
    "test[\"% Share(Rs)\"].plot(legend=True)"
   ]
  }
 ],
 "metadata": {
  "kernelspec": {
   "display_name": "Python 3 (ipykernel)",
   "language": "python",
   "name": "python3"
  },
  "language_info": {
   "codemirror_mode": {
    "name": "ipython",
    "version": 3
   },
   "file_extension": ".py",
   "mimetype": "text/x-python",
   "name": "python",
   "nbconvert_exporter": "python",
   "pygments_lexer": "ipython3",
   "version": "3.11.5"
  }
 },
 "nbformat": 4,
 "nbformat_minor": 5
}
